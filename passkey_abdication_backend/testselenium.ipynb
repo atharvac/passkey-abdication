{
 "cells": [
  {
   "cell_type": "code",
   "execution_count": 21,
   "id": "44170294",
   "metadata": {},
   "outputs": [],
   "source": [
    "from selenium import webdriver\n",
    "from selenium.webdriver.common.by import By\n",
    "import undetected_chromedriver as uc\n",
    "from selenium.webdriver.common.by import By\n",
    "from selenium.webdriver.support.ui import WebDriverWait\n",
    "from selenium.webdriver.support import expected_conditions as EC"
   ]
  },
  {
   "cell_type": "code",
   "execution_count": 22,
   "id": "397aacf1",
   "metadata": {},
   "outputs": [],
   "source": [
    "options = uc.ChromeOptions()\n",
    "# Configure options as needed\n",
    "# options.add_argument('--headless')  # Optional, if you don't want a GUI.\n",
    "options.add_argument('--no-sandbox')\n",
    "options.add_argument('--disable-dev-shm-usage')\n",
    "options.add_argument('--disable-blink-features=AutomationControlled')"
   ]
  },
  {
   "cell_type": "code",
   "execution_count": null,
   "id": "ddfb17f7",
   "metadata": {},
   "outputs": [],
   "source": [
    "username = \"test@example.com\"\n",
    "password = \"\""
   ]
  },
  {
   "cell_type": "code",
   "execution_count": 26,
   "id": "1f1874d8",
   "metadata": {},
   "outputs": [
    {
     "ename": "KeyboardInterrupt",
     "evalue": "",
     "output_type": "error",
     "traceback": [
      "\u001b[0;31m---------------------------------------------------------------------------\u001b[0m",
      "\u001b[0;31mKeyboardInterrupt\u001b[0m                         Traceback (most recent call last)",
      "Cell \u001b[0;32mIn[26], line 21\u001b[0m\n\u001b[1;32m     19\u001b[0m create_passkey_elem \u001b[38;5;241m=\u001b[39m WebDriverWait(driver, \u001b[38;5;241m10\u001b[39m)\u001b[38;5;241m.\u001b[39muntil(EC\u001b[38;5;241m.\u001b[39mpresence_of_element_located((By\u001b[38;5;241m.\u001b[39mXPATH, \u001b[38;5;124m\"\u001b[39m\u001b[38;5;124m/html/body/c-wiz/div/div[2]/div[2]/c-wiz/div/div/c-wiz/div/div[1]/div[3]/div[2]/div/div/button\u001b[39m\u001b[38;5;124m\"\u001b[39m)))\n\u001b[1;32m     20\u001b[0m create_passkey_elem\u001b[38;5;241m.\u001b[39mclick()\n\u001b[0;32m---> 21\u001b[0m \u001b[43msleep\u001b[49m\u001b[43m(\u001b[49m\u001b[38;5;241;43m10000000\u001b[39;49m\u001b[43m)\u001b[49m\n\u001b[1;32m     22\u001b[0m driver\u001b[38;5;241m.\u001b[39mquit()\n",
      "\u001b[0;31mKeyboardInterrupt\u001b[0m: "
     ]
    }
   ],
   "source": [
    "from time import sleep\n",
    "\n",
    "\n",
    "driver = webdriver.Chrome(options=options)\n",
    "driver.get('https://myaccount.google.com/signinoptions/passkeys')\n",
    "username_input_elem = driver.find_element(By.NAME, \"identifier\")\n",
    "username_input_elem.send_keys(username)\n",
    "\n",
    "next_elem = driver.find_element(By.XPATH, \"/html/body/div[1]/div[1]/div[2]/c-wiz/div/div[3]/div/div[1]/div/div/button\")\n",
    "next_elem.click()\n",
    "\n",
    "password_elem = WebDriverWait(driver, 5).until(EC.presence_of_element_located((By.NAME, \"Passwd\")))\n",
    "# password_elem = driver.find_element(By.NAME, \"Passwd\")\n",
    "password_elem.send_keys(password)\n",
    "\n",
    "next_passwd_elem = driver.find_element(By.XPATH, '//*[@id=\"passwordNext\"]/div/button')\n",
    "next_passwd_elem.click()\n",
    "\n",
    "create_passkey_elem = WebDriverWait(driver, 10).until(EC.presence_of_element_located((By.XPATH, \"/html/body/c-wiz/div/div[2]/div[2]/c-wiz/div/div/c-wiz/div/div[1]/div[3]/div[2]/div/div/button\")))\n",
    "create_passkey_elem.click()\n",
    "sleep(10000000)\n",
    "driver.quit()"
   ]
  },
  {
   "cell_type": "code",
   "execution_count": null,
   "id": "1f742c0a",
   "metadata": {},
   "outputs": [],
   "source": []
  }
 ],
 "metadata": {
  "kernelspec": {
   "display_name": "pad-Obw9wsIj-py3.10",
   "language": "python",
   "name": "python3"
  },
  "language_info": {
   "codemirror_mode": {
    "name": "ipython",
    "version": 3
   },
   "file_extension": ".py",
   "mimetype": "text/x-python",
   "name": "python",
   "nbconvert_exporter": "python",
   "pygments_lexer": "ipython3",
   "version": "3.10.5"
  }
 },
 "nbformat": 4,
 "nbformat_minor": 5
}
